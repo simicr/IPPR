{
 "cells": [
  {
   "cell_type": "code",
   "execution_count": 14,
   "id": "4515934b-e027-4ecb-9304-e7e9550cef0e",
   "metadata": {},
   "outputs": [],
   "source": [
    "import numpy as np\n",
    "import numpy.lib.stride_tricks as ns\n",
    "import cv2"
   ]
  },
  {
   "cell_type": "code",
   "execution_count": 24,
   "id": "d422720d-9f91-4e58-abdf-d1777187288d",
   "metadata": {},
   "outputs": [],
   "source": [
    "sigma_s = 2\n",
    "sigma_r = 3"
   ]
  },
  {
   "cell_type": "code",
   "execution_count": 20,
   "id": "59e15a81-1055-4ad8-9297-29b2df020e3d",
   "metadata": {},
   "outputs": [],
   "source": [
    "def bilateral_gaussian(im):\n",
    "    # Radius of the Gaussian filter\n",
    "    r = int(2 * sigma_s) + 1\n",
    "    padded = np.pad(im, ((r, r), (r, r), (0, 0)), 'edge')\n",
    "    '''\n",
    "    Implement the bilateral Gaussian filter (Eq. 3).\n",
    "    Apply it to the padded image.\n",
    "    '''\n",
    "\n",
    "\n",
    "    windows = ns.sliding_window_view(padded , (2*r+1, 2*r+1, 3)) # Napravice array (400, 254, 1, 17,17,3), u sustini prva dva broja su mesto piksela, ostatak je sam prozor. \n",
    "    chnanel_diff = windows - im[:, :, None, None, None, :] # Oduzmem od svakog prozora centralni piksel, ovo bi trebalo da radi. \n",
    "    luminance_magnitude = np.sqrt(np.sum((chnanel_diff ** 2), axis=-1)) # Izracunam L2 normu te razlike. \n",
    "    magnitude = np.exp(-luminance_magnitude**2 / (2.0*sigma_s**2)) # Ukoliko ovo prethodno radi imacemo (400, 254, 1, 17, 17). tj onaj deo |F(p) - F(q)|_f u zadatku. \n",
    "\n",
    "    indices = np.indices((2*r+1, 2*r+1)) + 1  \n",
    "    pixels = np.stack(indices, axis=-1) \n",
    "    pixels = pixels - pixels[r,r,:] # Meni nesto deluje da svaki prozor kada je razlika piksela u pitanju je uvek isti prozor. I onda mi je ideja da ovo izracunamo samo jednom \n",
    "                                    # i posle da ne moramo uopste. \n",
    "\n",
    "    pixels_magnitude = np.linalg.norm(pixels, axis=-1, ord=np.inf, keepdims=False) # Izracunam L_inf normu, nisam siguran za ovaj keep dims, ali dobije se taman (17,17) sto mozemo samo \n",
    "                                                                                   # da pomnozimo sa luminance magnitude.\n",
    "    pixels_magnitude = np.exp(-pixels_magnitude**2/ (2.0*sigma_r**2)) # Po formuli opet fali /2\n",
    "\n",
    "    weights =  pixels_magnitude[None, None, None, :, :] * luminance_magnitude # Pomnozimo ih ovo bi trebalo da bude b(|p-q|_inf)b(|F(p) - F(q)|_f) za svaki prozor. \n",
    "    sum_weights = np.sum(weights, axis=(-1,-2)) # Sumiramo, to je delioc u onoj formuli. \n",
    "    print(sum_weights.shape)\n",
    "    \n",
    "    filtered = weights[..., None] * windows # b(|p-q|_inf)b(|F(p) - F(q)|_f) * F(q)\n",
    "    filtered = np.squeeze ( np.sum(filtered, axis=(-2, -3)), axis=-2) / sum_weights # Sumiramo sve prozore, i izbacimo onu jedinicu u (400, 254, 1 ...)\n",
    "\n",
    "    return filtered "
   ]
  }
 ],
 "metadata": {
  "kernelspec": {
   "display_name": "Python 3 (ipykernel)",
   "language": "python",
   "name": "python3"
  },
  "language_info": {
   "codemirror_mode": {
    "name": "ipython",
    "version": 3
   },
   "file_extension": ".py",
   "mimetype": "text/x-python",
   "name": "python",
   "nbconvert_exporter": "python",
   "pygments_lexer": "ipython3",
   "version": "3.10.12"
  }
 },
 "nbformat": 4,
 "nbformat_minor": 5
}
